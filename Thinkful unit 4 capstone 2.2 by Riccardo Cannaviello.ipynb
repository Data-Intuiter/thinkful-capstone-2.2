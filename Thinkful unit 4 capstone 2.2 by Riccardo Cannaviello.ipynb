{
 "cells": [
  {
   "cell_type": "markdown",
   "metadata": {},
   "source": [
    "# INTRODUCTION"
   ]
  },
  {
   "cell_type": "markdown",
   "metadata": {},
   "source": [
    "Decades ago, a friend of mine exposed me to a stock market ecosystem called Technical Analysis, known as \"TA\".\n",
    "\n",
    "Until then, I had assumed that stock prices are only influenced by revenue, profit, and cash flow forecasts — published by stock analysts. In other words, I had assumed that a stock price would only be driven by the outlook of a company's real-world business growth and financial result forecasts.\n",
    "\n",
    "Instead, Technical Analysis is a methodology of forecasting the direction of securities prices, based on a statistical study of past trends: historical market data, primarily Price and Volume. In other words, Technical Analysis focuses on how the stock market reacts to \"itself\", in other words, the security's price and volume pattern, instead of the company's growth fundamentals.\n",
    "\n",
    "And my friend gave me another interesting insight: I learned that each Technical Analyst chooses a personal subset of TA tools. Technical Analysts are even willing to reveal their own tool collection, because truly successful Technical Analysts don't copy each other.\n",
    "\n",
    "In other words, each successful Technical Analyst chooses a set of tools, based on his or her own personal mental favor and bias. Wow!\n",
    "\n",
    "I didn't pursue a career in Technical Analysis (I went into investment banking and business development consulting.) But, when I read Thinkful's \"Capstone Analytic Report and Research Proposal\" requirements, suddenly Technical Analysis re-blossomed in my mind. \n",
    "\n",
    "I had always wondered whether any Technical Analysis tools consistently deliver profits. So, my intuition drove me to run a profitability analysis on the single most popular Technical Analysis tool: it's called **Moving Average.**\n",
    "\n"
   ]
  },
  {
   "cell_type": "markdown",
   "metadata": {},
   "source": [
    "  "
   ]
  },
  {
   "cell_type": "markdown",
   "metadata": {},
   "source": [
    "# DESCRIPTION OF DATASET"
   ]
  },
  {
   "cell_type": "markdown",
   "metadata": {},
   "source": [
    "## What does your data contain, and what is its background?"
   ]
  },
  {
   "cell_type": "markdown",
   "metadata": {},
   "source": [
    "There's a stock index that's widely regarded as the best gauge of large-cap U.S. equities: Standard & Poor's 500 Index (S&P 500) which is a market-capitalization-weighted index of the 500 largest U.S. publicly traded companies.\n",
    "\n",
    "As well, the stock market is frequently broken down into 11 major sectors, which represent key areas of the economy: Materials, Energy, Financials, Industrials, Technology, Consumer Staples, Real Estate, Utilities, Health Care, Consumer Discretionary, Telecommunications.\n",
    "\n",
    "I was able to access publicly available 5 years of traded securities data … from January 2014 to December 2018. For each security, the data are in 1256 rows and in 7 columns. \n",
    "\n",
    "The column titles are: *Date, Open, High, Low, Close, Adj Close, Volume*\n",
    "\n",
    "To analyze the profit or loss from using Moving Average, my code will only focus on the Date and Close columns."
   ]
  },
  {
   "cell_type": "markdown",
   "metadata": {},
   "source": [
    "## Where does your data come from?"
   ]
  },
  {
   "cell_type": "markdown",
   "metadata": {},
   "source": [
    "My data comes from Yahoo Finance, at https://finance.yahoo.com"
   ]
  },
  {
   "cell_type": "markdown",
   "metadata": {},
   "source": [
    "## Why is it interesting or significant?"
   ]
  },
  {
   "cell_type": "markdown",
   "metadata": {},
   "source": [
    "One of the most popular Technical Analysis tools, is the Moving Average: a dynamic trend-line, a calculation to analyze data points by creating a series averages of different subsets of the full data set. The subsets are \"rolling over time\". \n",
    "\n",
    "The typical Moving Average graphic approach is to chart the 50-day Moving Average and the 200-day Moving Average, along with the Closing Price. The \"Simple Moving Averages\" are symbolically referred to as SMA(50) and SMA(200).\n",
    "\n",
    "When those two Moving Averages intersect (upward or downward), then it's a popular signal of an upcoming trend.\n",
    "\n",
    "Those two moving averages are frequently visible on publicly published charts."
   ]
  },
  {
   "cell_type": "markdown",
   "metadata": {},
   "source": [
    "## Summary statistics"
   ]
  },
  {
   "cell_type": "markdown",
   "metadata": {},
   "source": [
    "I use two Simple Moving Averages: 50 trading days, and 200 trading days.\n",
    "\n",
    "SMA(50) averages the past 50 days' closing prices\n",
    "\n",
    "SMA(200) averages the past 200 days' closing prices\n"
   ]
  },
  {
   "cell_type": "markdown",
   "metadata": {},
   "source": [
    "SMA(50) = (A50 + A49 + … + A1)/50\n",
    "\n",
    "SMA(200) = (A200 + A199 + … + A1)/200\n",
    "\n",
    "where the symbol \"A\" simply represents the Closing Price on each past trading day."
   ]
  },
  {
   "cell_type": "markdown",
   "metadata": {},
   "source": [
    "## Visualizations of the particular variables from the dataset that you will use"
   ]
  },
  {
   "cell_type": "markdown",
   "metadata": {},
   "source": [
    "The following online chart is an example of a chart containing the two popular Moving Averages, published by StockCharts.com\n",
    "\n",
    "This is a very, very routine stock chart.\n"
   ]
  },
  {
   "cell_type": "code",
   "execution_count": 11,
   "metadata": {},
   "outputs": [],
   "source": [
    "from IPython.display import Image"
   ]
  },
  {
   "cell_type": "code",
   "execution_count": 16,
   "metadata": {},
   "outputs": [
    {
     "data": {
      "text/html": [
       "<img src=\"http://cns.bu.edu/~gsc/CN710/fincast/Technical%20_indicators/Moving%20Averages_files/mova1-5ibm.png\"/>"
      ],
      "text/plain": [
       "<IPython.core.display.Image object>"
      ]
     },
     "execution_count": 16,
     "metadata": {},
     "output_type": "execute_result"
    }
   ],
   "source": [
    "Image(url='http://cns.bu.edu/~gsc/CN710/fincast/Technical%20_indicators/Moving%20Averages_files/mova1-5ibm.png')"
   ]
  },
  {
   "cell_type": "markdown",
   "metadata": {},
   "source": [
    "  "
   ]
  },
  {
   "cell_type": "markdown",
   "metadata": {},
   "source": [
    "# THREE ANALYTIC QUESTIONS"
   ]
  },
  {
   "cell_type": "raw",
   "metadata": {},
   "source": [
    "Here's my intuitive idea: to calculate how much the intersections of those two Moving Averages, would reward a user.\n",
    "\n",
    "Specifically, I visualize a beginning trader who\n",
    "\n",
    "    a) Has a non-financial, full time job, so wouldn't have the ability to trade in real time (therefore would buy or sell securities after the market closes); and\n",
    "\n",
    "    b) Doesn't feel safe entering short trades.\n",
    "\n",
    "Here are 3 questions that came to my mind ...\n"
   ]
  },
  {
   "cell_type": "markdown",
   "metadata": {},
   "source": [
    "### QUESTION 1"
   ]
  },
  {
   "cell_type": "markdown",
   "metadata": {},
   "source": [
    "* If a user **buys** a security based onthe S&P 500 index, when the 50-day Moving\n",
    "Average crosses **above** the 200-day Moving Average ...\n",
    "  \n",
    "* ... and then if the user **sells** that same security when the 50-day Moving\n",
    "Average crosses **below** the 200-day Moving Average ...\n",
    "  \n",
    "How attractive is the Moving Average \"crossing reward\" for S&P 500?"
   ]
  },
  {
   "cell_type": "markdown",
   "metadata": {},
   "source": [
    "### QUESTION 2"
   ]
  },
  {
   "cell_type": "markdown",
   "metadata": {},
   "source": [
    "Run a similar Moving Average analysis of the 11 industry sub-sectors. \n",
    "\n",
    "Comparing those 11 sub-sectors, which sector has provided the best MA(50) and MA(200) \"crossing reward\"?"
   ]
  },
  {
   "cell_type": "markdown",
   "metadata": {},
   "source": [
    "### QUESTION 3"
   ]
  },
  {
   "cell_type": "markdown",
   "metadata": {},
   "source": [
    "Out of those 11 industry sub-sectors ... has the best one provided a better MA(50) and MA(200) \"crossing reward\" than the S&P 500?  "
   ]
  },
  {
   "cell_type": "markdown",
   "metadata": {},
   "source": [
    "  "
   ]
  },
  {
   "cell_type": "markdown",
   "metadata": {},
   "source": [
    "## Answer 1: S&P 500"
   ]
  },
  {
   "cell_type": "code",
   "execution_count": 17,
   "metadata": {},
   "outputs": [
    {
     "name": "stdout",
     "output_type": "stream",
     "text": [
      "purchase   -596.39\n",
      "dtype: float64\n",
      "sale    654.920013\n",
      "dtype: float64\n"
     ]
    }
   ],
   "source": [
    "import pandas as pd\n",
    "import numpy as np\n",
    "\n",
    "# this imports the source data, from a CSV file\n",
    "df_SPY = pd.read_csv('SPY.csv')\n",
    "\n",
    "\n",
    "# this creates the MA(50) column and contents\n",
    "df_SPY['MA(50)'] = df_SPY['Close'].rolling(window=50).mean()\n",
    "\n",
    "# this creates the MA(200) column and contents\n",
    "df_SPY['MA(200)'] = df_SPY['Close'].rolling(window=200).mean()\n",
    "\n",
    "# this creates another column that calculates the difference \n",
    "# between MA(50) and MA(200)\n",
    "df_SPY['SMA difference'] = df_SPY['MA(50)'] - df_SPY['MA(200)']\n",
    "\n",
    "\n",
    "# this adds a new column which will contain \n",
    "# the NEGATIVE or POSITIVE crossover flag\n",
    "df_SPY['crossover'] = \"\"\n",
    "\n",
    "for i in range(200, len(df_SPY)) :\n",
    "    if df_SPY.iloc[i-1, 9] < 0 and df_SPY.iloc[i-2, 9] >= 0 : \n",
    "        df_SPY.iloc[i-1, 10] = 'NEGATIVE'\n",
    "\n",
    "for i in range(200, len(df_SPY)) :\n",
    "    if df_SPY.iloc[i-1, 9] >= 0 and df_SPY.iloc[i-2, 9] < 0 : \n",
    "        df_SPY.iloc[i-1, 10] = 'POSITIVE'\n",
    "\n",
    "        \n",
    "# this adds two new columns that will contain \n",
    "# the PURCHASE and SALE amounts\n",
    "df_SPY['purchase'] = \"\"\n",
    "df_SPY['sale'] = \"\"\n",
    "\n",
    "\n",
    "# this is the initial investment amount\n",
    "df_SPY.loc[0, \"purchase\"] = - df_SPY.loc[0, \"Close\"]\n",
    "\n",
    "\n",
    "# this navigates through the entire dataframe,\n",
    "# calculating the PURCHASE and SALE amounts, in their respective columns\n",
    "\n",
    "for i in range(200, len(df_SPY)) :\n",
    "    if df_SPY.iloc[i, 10] == 'NEGATIVE' : \n",
    "        df_SPY.iloc[i, 12] = df_SPY.loc[i, \"Close\"]\n",
    "\n",
    "for i in range(200, len(df_SPY)) :\n",
    "    if df_SPY.iloc[i, 10] == 'POSITIVE' : \n",
    "        df_SPY.iloc[i, 11] = - df_SPY.loc[i, \"Close\"]\n",
    "\n",
    "\n",
    "# this exports the results to CSV format\n",
    "df_SPY.to_csv('SPY_results.csv')\n",
    "\n",
    "# this re-imports the resulting data, from the CSV file\n",
    "df_SPY_results = pd.read_csv('SPY_results.csv')\n",
    "\n",
    "\n",
    "# finally, this delivers the PURCHASE and SALE results,\n",
    "# which are used to calculate a Profit or a Loss\n",
    "print (df_SPY_results[['purchase']].sum())\n",
    "print (df_SPY_results[['sale']].sum())"
   ]
  },
  {
   "cell_type": "markdown",
   "metadata": {},
   "source": [
    "In the above Python code that was run on the S&P 500 data, the end results are:\n",
    "\n",
    "* a profit amount of 654.92 minus 596.39 = 58.53\n",
    "  \n",
    "* a profit percentage of 58.53 divided by 596.39 = 9.8%\n",
    "  "
   ]
  },
  {
   "cell_type": "markdown",
   "metadata": {},
   "source": [
    "Below, is the chart of the Closing price and the two Moving Averages:"
   ]
  },
  {
   "cell_type": "code",
   "execution_count": 24,
   "metadata": {},
   "outputs": [
    {
     "data": {
      "image/png": "[encoded data removed]",
      "text/plain": [
       "<Figure size 1080x504 with 1 Axes>"
      ]
     },
     "metadata": {
      "needs_background": "light"
     },
     "output_type": "display_data"
    }
   ],
   "source": [
    "import matplotlib.pyplot as plt\n",
    "import numpy as np\n",
    "import pandas as pd\n",
    "%matplotlib inline\n",
    "\n",
    "plt.figure(figsize=(15, 7))\n",
    "\n",
    "plt.plot(df_SPY['Close'], color=\"grey\")\n",
    "plt.plot(df_SPY['MA(50)'], color=\"blue\")\n",
    "plt.plot(df_SPY['MA(200)'], color=\"red\")\n",
    "\n",
    "plt.ylabel('Closing Price')\n",
    "plt.xlabel('days')\n",
    "plt.title('S&P 500')\n",
    "\n",
    "plt.tight_layout()\n",
    "plt.show()"
   ]
  },
  {
   "cell_type": "markdown",
   "metadata": {},
   "source": [
    "## Answers 2 & 3: comparison of the 11 industry sub-sectors, and, the S&P 500"
   ]
  },
  {
   "cell_type": "markdown",
   "metadata": {},
   "source": [
    "Here would have been the profit (or loss) percentage results of trading, based on Moving Average crossovers:"
   ]
  },
  {
   "cell_type": "markdown",
   "metadata": {},
   "source": [
    "| Sector                  |   Profit %  |\n",
    "| ------------------------|-------------|\n",
    "| Materials               |    5.5%     |\n",
    "| Energy                  |   -0.6%     |\n",
    "| Financials              |    9.5%     |\n",
    "| Industrials             |    7.0%     |\n",
    "| Technology              |   20.4%     |\n",
    "| Consumer Staples        |   21.9%     |\n",
    "| Real Estate             |   -1.3%     |\n",
    "| Utilities               |    6.3%     |\n",
    "| Health Care             |    6.9%     |\n",
    "| Consumer Discretionary  |   14.6%     |\n",
    "| Telecommunications      |    5.2%     |\n",
    "| S&P 500      |    9.8%     |"
   ]
  },
  {
   "cell_type": "markdown",
   "metadata": {},
   "source": [
    "  "
   ]
  },
  {
   "cell_type": "markdown",
   "metadata": {},
   "source": [
    "# FURTHER RESEARCH PROPOSITIONS"
   ]
  },
  {
   "cell_type": "markdown",
   "metadata": {},
   "source": [
    "##  Proposal for a realistic future research project on this dataset, that would use some data science techniques you'd like to learn in the bootcamp"
   ]
  },
  {
   "cell_type": "markdown",
   "metadata": {},
   "source": [
    "In the future, I'd like to run analyses on the other popular Technical Analysis tools, and hopefully identify the best, most consistently profitable tools.\n",
    "\n",
    "A list of the most popular Technical Analysis tools, includes:\n",
    "\n",
    "* Simple Moving Average\n",
    " \n",
    "* Exponential Moving Average\n",
    " \n",
    "* Volume Weighted Average Price\n",
    " \n",
    "* Moving Average Convergence / Divergence\n",
    " \n",
    "* Stochastic Oscillator\n",
    " \n",
    "* Relative Strength Index\n",
    " \n",
    "* Average Directional Movement Index\n",
    " \n",
    "* Commodity Channel Index\n",
    " \n",
    "* Aroon\n",
    " \n",
    "* Bollinger Bands\n",
    " \n",
    "* Chaikin A/D line\n",
    " \n",
    "* On Balance Volume"
   ]
  },
  {
   "cell_type": "markdown",
   "metadata": {},
   "source": [
    "  "
   ]
  },
  {
   "cell_type": "markdown",
   "metadata": {},
   "source": [
    "## Present one or more clear questions"
   ]
  },
  {
   "cell_type": "markdown",
   "metadata": {},
   "source": [
    "Some of the popular Technical Analysis tools may benefit from adaptation.\n",
    "\n",
    "For example: should the Simple Moving Average quantity drivers (50 and 200) be changed ... depending on overall market conditions? or maybe, other statistical triggers?\n"
   ]
  },
  {
   "cell_type": "markdown",
   "metadata": {},
   "source": [
    "  "
   ]
  },
  {
   "cell_type": "markdown",
   "metadata": {},
   "source": [
    "## Describe the techniques you would apply in order to arrive at an answer"
   ]
  },
  {
   "cell_type": "markdown",
   "metadata": {},
   "source": [
    "My intuition is that the \"peak and valley\" trend in the mathematical difference betwen MA(50) and MA(200), may be a more valuable driver than the \"crossover\"."
   ]
  }
 ],
 "metadata": {
  "kernelspec": {
   "display_name": "Python 3",
   "language": "python",
   "name": "python3"
  },
  "language_info": {
   "codemirror_mode": {
    "name": "ipython",
    "version": 3
   },
   "file_extension": ".py",
   "mimetype": "text/x-python",
   "name": "python",
   "nbconvert_exporter": "python",
   "pygments_lexer": "ipython3",
   "version": "3.7.2"
  }
 },
 "nbformat": 4,
 "nbformat_minor": 2
}
